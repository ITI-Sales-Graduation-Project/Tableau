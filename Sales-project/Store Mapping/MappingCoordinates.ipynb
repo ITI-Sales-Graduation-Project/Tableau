{
 "cells": [
  {
   "cell_type": "code",
   "execution_count": 1,
   "id": "5ee679ac-c65a-426f-82a4-3b6835bc0bc7",
   "metadata": {},
   "outputs": [],
   "source": [
    "import pandas as pd\n",
    "import numpy as np\n",
    "import reverse_geocoder as rg\n",
    "from tqdm import tqdm\n",
    "\n",
    "pd.set_option('display.max_columns', None)"
   ]
  },
  {
   "cell_type": "code",
   "execution_count": 1,
   "id": "8d1d308c-f736-4e44-94de-60f5c3327be1",
   "metadata": {},
   "outputs": [
    {
     "name": "stdout",
     "output_type": "stream",
     "text": [
      "Requirement already satisfied: tqdm in c:\\users\\yossef\\anaconda3\\lib\\site-packages (4.66.4)\n",
      "Requirement already satisfied: colorama in c:\\users\\yossef\\anaconda3\\lib\\site-packages (from tqdm) (0.4.6)\n"
     ]
    }
   ],
   "source": [
    "!pip install tqdm"
   ]
  },
  {
   "cell_type": "code",
   "execution_count": 2,
   "id": "feebb695-21b0-48d2-9f4b-29b9c65cd10d",
   "metadata": {},
   "outputs": [],
   "source": [
    "def reverse_geocode(lat, lon):\n",
    "    coordinates = (lat, lon)\n",
    "    results = rg.search(coordinates)\n",
    "    city = results[0]['name']\n",
    "    state = results[0]['admin1']\n",
    "    country = results[0]['cc']\n",
    "    return city, state, country"
   ]
  },
  {
   "cell_type": "code",
   "execution_count": 8,
   "id": "8b15b640-3ae8-4fd8-9177-b8f7f2880bae",
   "metadata": {},
   "outputs": [],
   "source": [
    "df = pd.read_csv('Stores 2 Digits.csv')"
   ]
  },
  {
   "cell_type": "code",
   "execution_count": 9,
   "id": "52a08ab9-7928-489d-8d54-e40b673e2f31",
   "metadata": {},
   "outputs": [
    {
     "data": {
      "text/html": [
       "<div>\n",
       "<style scoped>\n",
       "    .dataframe tbody tr th:only-of-type {\n",
       "        vertical-align: middle;\n",
       "    }\n",
       "\n",
       "    .dataframe tbody tr th {\n",
       "        vertical-align: top;\n",
       "    }\n",
       "\n",
       "    .dataframe thead th {\n",
       "        text-align: right;\n",
       "    }\n",
       "</style>\n",
       "<table border=\"1\" class=\"dataframe\">\n",
       "  <thead>\n",
       "    <tr style=\"text-align: right;\">\n",
       "      <th></th>\n",
       "      <th>Store_SK</th>\n",
       "      <th>Store_BK</th>\n",
       "      <th>Latitude</th>\n",
       "      <th>Longitude</th>\n",
       "      <th>SSC</th>\n",
       "      <th>start_date</th>\n",
       "      <th>end_date</th>\n",
       "      <th>is_current</th>\n",
       "    </tr>\n",
       "  </thead>\n",
       "  <tbody>\n",
       "    <tr>\n",
       "      <th>3576</th>\n",
       "      <td>3577</td>\n",
       "      <td>3577</td>\n",
       "      <td>47.59</td>\n",
       "      <td>-122.39</td>\n",
       "      <td>1</td>\n",
       "      <td>8/24/2024 3:50</td>\n",
       "      <td>NaN</td>\n",
       "      <td>1</td>\n",
       "    </tr>\n",
       "    <tr>\n",
       "      <th>3577</th>\n",
       "      <td>3578</td>\n",
       "      <td>3578</td>\n",
       "      <td>30.51</td>\n",
       "      <td>-92.19</td>\n",
       "      <td>1</td>\n",
       "      <td>8/24/2024 3:50</td>\n",
       "      <td>NaN</td>\n",
       "      <td>1</td>\n",
       "    </tr>\n",
       "    <tr>\n",
       "      <th>3578</th>\n",
       "      <td>3579</td>\n",
       "      <td>3579</td>\n",
       "      <td>38.41</td>\n",
       "      <td>-121.42</td>\n",
       "      <td>1</td>\n",
       "      <td>8/24/2024 3:50</td>\n",
       "      <td>NaN</td>\n",
       "      <td>1</td>\n",
       "    </tr>\n",
       "    <tr>\n",
       "      <th>3579</th>\n",
       "      <td>3580</td>\n",
       "      <td>3580</td>\n",
       "      <td>28.59</td>\n",
       "      <td>-81.29</td>\n",
       "      <td>1</td>\n",
       "      <td>8/24/2024 3:50</td>\n",
       "      <td>NaN</td>\n",
       "      <td>1</td>\n",
       "    </tr>\n",
       "    <tr>\n",
       "      <th>3580</th>\n",
       "      <td>3581</td>\n",
       "      <td>3581</td>\n",
       "      <td>34.00</td>\n",
       "      <td>-117.89</td>\n",
       "      <td>1</td>\n",
       "      <td>8/24/2024 3:50</td>\n",
       "      <td>NaN</td>\n",
       "      <td>1</td>\n",
       "    </tr>\n",
       "  </tbody>\n",
       "</table>\n",
       "</div>"
      ],
      "text/plain": [
       "      Store_SK  Store_BK  Latitude  Longitude  SSC      start_date  end_date  \\\n",
       "3576      3577      3577     47.59    -122.39    1  8/24/2024 3:50       NaN   \n",
       "3577      3578      3578     30.51     -92.19    1  8/24/2024 3:50       NaN   \n",
       "3578      3579      3579     38.41    -121.42    1  8/24/2024 3:50       NaN   \n",
       "3579      3580      3580     28.59     -81.29    1  8/24/2024 3:50       NaN   \n",
       "3580      3581      3581     34.00    -117.89    1  8/24/2024 3:50       NaN   \n",
       "\n",
       "      is_current  \n",
       "3576           1  \n",
       "3577           1  \n",
       "3578           1  \n",
       "3579           1  \n",
       "3580           1  "
      ]
     },
     "execution_count": 9,
     "metadata": {},
     "output_type": "execute_result"
    }
   ],
   "source": [
    "df.tail()"
   ]
  },
  {
   "cell_type": "code",
   "execution_count": 10,
   "id": "dd90e488-5cf7-47e7-a436-4428c0c1f2b8",
   "metadata": {},
   "outputs": [
    {
     "data": {
      "text/plain": [
       "(3581, 8)"
      ]
     },
     "execution_count": 10,
     "metadata": {},
     "output_type": "execute_result"
    }
   ],
   "source": [
    "df.shape"
   ]
  },
  {
   "cell_type": "code",
   "execution_count": 11,
   "id": "64077402-55f5-4e8f-8942-dd809f832e16",
   "metadata": {},
   "outputs": [
    {
     "name": "stderr",
     "output_type": "stream",
     "text": [
      "Reverse Geocoding: 100%|███████████████████████████████████████████████████████████| 3581/3581 [54:59<00:00,  1.09it/s]\n"
     ]
    }
   ],
   "source": [
    "tqdm.pandas(desc=\"Reverse Geocoding\")\n",
    "\n",
    "\n",
    "df[['storeCity', 'storeState', 'storeCountry']] = df.progress_apply(\n",
    "    lambda row: pd.Series(reverse_geocode(row['Latitude'], row['Longitude'])), axis=1\n",
    ")\n",
    "\n",
    "# Merge the results back into the original DataFrame\n",
    "df.update(df[['storeCity', 'storeState', 'storeCountry']])"
   ]
  },
  {
   "cell_type": "code",
   "execution_count": 12,
   "id": "ea95e0af-a126-462b-ae35-ff9f7e79d84b",
   "metadata": {},
   "outputs": [],
   "source": [
    "df.to_csv(\"Stores 2 Digits Tagged.CSV\")"
   ]
  },
  {
   "cell_type": "code",
   "execution_count": null,
   "id": "d3819c2c-04fa-49e7-ab9d-93b33870629c",
   "metadata": {},
   "outputs": [],
   "source": []
  }
 ],
 "metadata": {
  "kernelspec": {
   "display_name": "Python 3 (ipykernel)",
   "language": "python",
   "name": "python3"
  },
  "language_info": {
   "codemirror_mode": {
    "name": "ipython",
    "version": 3
   },
   "file_extension": ".py",
   "mimetype": "text/x-python",
   "name": "python",
   "nbconvert_exporter": "python",
   "pygments_lexer": "ipython3",
   "version": "3.12.4"
  }
 },
 "nbformat": 4,
 "nbformat_minor": 5
}
